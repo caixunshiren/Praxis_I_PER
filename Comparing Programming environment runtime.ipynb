{
 "cells": [
  {
   "cell_type": "code",
   "execution_count": 7,
   "metadata": {},
   "outputs": [
    {
     "name": "stdout",
     "output_type": "stream",
     "text": [
      "25.933666944503784\n"
     ]
    }
   ],
   "source": [
    "# Matrix multiplication 10000 X 10000 speed numpy\n",
    "import numpy as np\n",
    "import time\n",
    "\n",
    "np.random.seed(seed=1)\n",
    "\n",
    "#numpy runtime\n",
    "A = np.random.rand(10000,10000) * 100\n",
    "B = np.random.rand(10000,10000) * 100\n",
    "start = time.time()\n",
    "C = A@B\n",
    "end = time.time()\n",
    "print(end - start)"
   ]
  },
  {
   "cell_type": "code",
   "execution_count": 8,
   "metadata": {},
   "outputs": [
    {
     "name": "stdout",
     "output_type": "stream",
     "text": [
      "33.7245454788208\n"
     ]
    }
   ],
   "source": [
    "#tensorflow runtime\n",
    "import tensorflow as tf\n",
    "\n",
    "a = tf.constant(A)\n",
    "b = tf.constant(B)\n",
    "\n",
    "start = time.time()\n",
    "C = a@b\n",
    "end = time.time()\n",
    "print(end - start)"
   ]
  },
  {
   "cell_type": "code",
   "execution_count": 9,
   "metadata": {},
   "outputs": [
    {
     "name": "stdout",
     "output_type": "stream",
     "text": [
      "23.44363498687744\n"
     ]
    }
   ],
   "source": [
    "#pytorch runtime\n",
    "import torch\n",
    "aa = torch.tensor(A)\n",
    "bb = torch.tensor(B)\n",
    "\n",
    "start = time.time()\n",
    "C = aa@bb\n",
    "end = time.time()\n",
    "print(end - start)"
   ]
  },
  {
   "cell_type": "code",
   "execution_count": null,
   "metadata": {},
   "outputs": [],
   "source": []
  }
 ],
 "metadata": {
  "kernelspec": {
   "display_name": "Python 3",
   "language": "python",
   "name": "python3"
  },
  "language_info": {
   "codemirror_mode": {
    "name": "ipython",
    "version": 3
   },
   "file_extension": ".py",
   "mimetype": "text/x-python",
   "name": "python",
   "nbconvert_exporter": "python",
   "pygments_lexer": "ipython3",
   "version": "3.8.3"
  }
 },
 "nbformat": 4,
 "nbformat_minor": 4
}
